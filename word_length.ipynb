{
 "cells": [
  {
   "cell_type": "code",
   "execution_count": 8,
   "metadata": {},
   "outputs": [],
   "source": [
    "# function to find the length of the last word.\n",
    "def len_function(sentence):\n",
    "  word = input(\"Your string/word: \")\n",
    "  print(word)\n",
    "  text = word.split()\n",
    "  print(len(text[-1]))"
   ]
  }
 ],
 "metadata": {
  "interpreter": {
   "hash": "0af457d1c4c0be5f4ee8805515926bec19c150716d26ab9b7c7feeaabb39b92c"
  },
  "kernelspec": {
   "display_name": "Python 3.7.3 64-bit",
   "language": "python",
   "name": "python3"
  },
  "language_info": {
   "codemirror_mode": {
    "name": "ipython",
    "version": 3
   },
   "file_extension": ".py",
   "mimetype": "text/x-python",
   "name": "python",
   "nbconvert_exporter": "python",
   "pygments_lexer": "ipython3",
   "version": "3.7.3"
  },
  "orig_nbformat": 4
 },
 "nbformat": 4,
 "nbformat_minor": 2
}
