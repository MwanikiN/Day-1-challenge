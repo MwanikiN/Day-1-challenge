{
 "cells": [
  {
   "cell_type": "code",
   "execution_count": 2,
   "metadata": {},
   "outputs": [],
   "source": [
    "#suitable password length is 12-15 characters - Mark Burnett\n",
    "#strong passwords include lowercase, uppercase, numbers, symbols and random\n",
    "# representing these as arrays and using random module to generate random choices\n",
    "def pass_generator(my_password):\n",
    "  import random as rand\n",
    "  char = 'A B C D E F G H I J K L M N O P Q R S T U V W X Y Z'\n",
    "  symbols = ['!', '@', '#', '$', '%', '^', '&', '*', '(', ')', '~', '_', '+', '=',\n",
    "  '|', '\\\\', '?', '/', '.', '>', ',', '\"', ':', '<', \"'\", ';']\n",
    "  numbers = ['1', '2', '3', '4', '5', '6', '7', '8', '9']\n",
    "  uppercase = char.split()\n",
    "  lcase = char.lower()\n",
    "  lowercase = lcase.split()\n",
    "  characters = numbers + symbols + uppercase + lowercase\n",
    "  #proper password length 12 -15, \n",
    "  password_length = int(input(\"Preferred password length: \"))\n",
    "  password = []\n",
    "  for i in range(15):\n",
    "    password.append(rand.choice(characters))\n",
    "  rand.shuffle(password)\n",
    "  print(password)\n",
    "  print(''.join(password))"
   ]
  },
  {
   "cell_type": "code",
   "execution_count": 3,
   "metadata": {},
   "outputs": [
    {
     "name": "stdout",
     "output_type": "stream",
     "text": [
      "['J', 'C', \"'\", 'i', '9', 'C', '7', '\"', 'q', '+', '|', '1', '.', ':', 'P']\n",
      "JC'i9C7\"q+|1.:P\n"
     ]
    }
   ],
   "source": [
    "pass_generator(\"my_password\")"
   ]
  }
 ],
 "metadata": {
  "interpreter": {
   "hash": "0af457d1c4c0be5f4ee8805515926bec19c150716d26ab9b7c7feeaabb39b92c"
  },
  "kernelspec": {
   "display_name": "Python 3.7.3 64-bit",
   "language": "python",
   "name": "python3"
  },
  "language_info": {
   "codemirror_mode": {
    "name": "ipython",
    "version": 3
   },
   "file_extension": ".py",
   "mimetype": "text/x-python",
   "name": "python",
   "nbconvert_exporter": "python",
   "pygments_lexer": "ipython3",
   "version": "3.7.3"
  },
  "orig_nbformat": 4
 },
 "nbformat": 4,
 "nbformat_minor": 2
}
