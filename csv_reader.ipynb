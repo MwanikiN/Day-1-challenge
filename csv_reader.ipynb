{
 "cells": [
  {
   "cell_type": "code",
   "execution_count": null,
   "metadata": {},
   "outputs": [],
   "source": [
    "#python program to read a csv file as a dictionary\n",
    "import csv\n",
    "with open ('Jobs.csv', 'r') as csvfile:\n",
    "  my_csvfile = csv.DictReader(csvfile)\n",
    "  for row in my_csvfile:\n",
    "    print(dict(row))"
   ]
  }
 ],
 "metadata": {
  "interpreter": {
   "hash": "0af457d1c4c0be5f4ee8805515926bec19c150716d26ab9b7c7feeaabb39b92c"
  },
  "kernelspec": {
   "display_name": "Python 3.7.3 64-bit",
   "language": "python",
   "name": "python3"
  },
  "language_info": {
   "name": "python",
   "version": "3.7.3"
  },
  "orig_nbformat": 4
 },
 "nbformat": 4,
 "nbformat_minor": 2
}
